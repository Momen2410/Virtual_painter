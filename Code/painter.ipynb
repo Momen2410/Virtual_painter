{
 "cells": [
  {
   "cell_type": "code",
   "execution_count": 1,
   "id": "5b48bd65-fde4-4636-bc70-88b3f42c0330",
   "metadata": {},
   "outputs": [],
   "source": [
    "import HandTraking as ht\n",
    "import cv2\n",
    "import numpy as np\n",
    "import time\n",
    "import os"
   ]
  },
  {
   "cell_type": "code",
   "execution_count": 2,
   "id": "61c9d658-44d0-44b4-ada3-28a79830dc22",
   "metadata": {},
   "outputs": [
    {
     "name": "stdout",
     "output_type": "stream",
     "text": [
      "['1.jpg', '2.jpg', '3.jpg', '4.jpg']\n"
     ]
    }
   ],
   "source": [
    "Folder_path = r\"D:\\Me\\Ai\\Computer vision projects\\Virtua_drawing\\versual_pain\"\n",
    "\n",
    "images = os.listdir(Folder_path)\n",
    "\n",
    "print(images)"
   ]
  },
  {
   "cell_type": "code",
   "execution_count": 3,
   "id": "774deb40-9bd7-4404-9668-7b7afe0fb1f5",
   "metadata": {},
   "outputs": [
    {
     "name": "stdout",
     "output_type": "stream",
     "text": [
      "4\n"
     ]
    }
   ],
   "source": [
    "heders = []\n",
    "\n",
    "for image in images:\n",
    "    img = cv2.imread(rf'{Folder_path}\\{image}')\n",
    "    heders.append(img)\n",
    "\n",
    "print(len(heders))"
   ]
  },
  {
   "cell_type": "code",
   "execution_count": 4,
   "id": "ab8b285a-05e1-44a1-ba69-259fc1260b7e",
   "metadata": {},
   "outputs": [],
   "source": [
    "header = heders[0]\n",
    "DrawColor = (0,0,255)\n",
    "\n",
    "brushThickness = 10\n",
    "eraserThickness = 50\n",
    "\n",
    "imgCanvas = np.zeros((720, 1280, 3), np.uint8)\n",
    "\n",
    "xp, yp = 0,0\n",
    "\n",
    "\n",
    "cap = cv2.VideoCapture(0)\n",
    "cap.set(3,1240)\n",
    "cap.set(4,720)\n",
    "detector = ht.handDetector(trackCon = 0.9, detectionCon = 0.9)\n",
    "while True:\n",
    "    ret, img = cap.read()\n",
    "    img = cv2.flip(img, 1)\n",
    "\n",
    "    \n",
    "\n",
    "    img = detector.findHands(img)\n",
    "    lmList = detector.handposision(img,Draw = False)\n",
    "    if len(lmList) != 0:\n",
    "        #print(lmList)\n",
    "        x1, y1 = lmList[8][1:]\n",
    "        x2, y2 = lmList[12][1:]\n",
    "    \n",
    "        fingers = detector.fingersUp()\n",
    "    \n",
    "        if fingers[1] and fingers[2]:\n",
    "            xp, yp = 0,0\n",
    "            if y1 < 125:\n",
    "                if 250 < x1 < 450:\n",
    "                    header = heders[2]\n",
    "                    DrawColor = (0, 0, 255)\n",
    "                elif 550 < x1 < 750:\n",
    "                    header = heders[1]\n",
    "                    DrawColor = (255, 0, 0)\n",
    "                elif 800 < x1 < 950:\n",
    "                    header = heders[0]\n",
    "                    DrawColor = (0, 255, 0)\n",
    "                elif 1050 < x1 < 1200:\n",
    "                    header = heders[3]\n",
    "                    DrawColor = (0, 0, 0)\n",
    "            cv2.rectangle(img, (x1, y1-25), (x2, y2+25), DrawColor, cv2.FILLED)\n",
    "            \n",
    "        if fingers[1] and fingers[2] == False:\n",
    "            cv2.circle(img, (x1, y1), 15, DrawColor, cv2.FILLED)\n",
    "\n",
    "            if xp == 0 and yp == 0:\n",
    "                xp, yp = x1, y1\n",
    "    \n",
    "            if DrawColor == (0, 0, 0):\n",
    "                cv2.line(img, (xp, yp), (x1, y1), DrawColor, eraserThickness)\n",
    "                cv2.line(imgCanvas, (xp, yp), (x1, y1), DrawColor, eraserThickness)\n",
    "            \n",
    "            else:\n",
    "                 cv2.line(img, (xp, yp), (x1, y1), DrawColor, brushThickness)\n",
    "                 cv2.line(imgCanvas, (xp, yp), (x1, y1), DrawColor, brushThickness)\n",
    "                \n",
    "            xp, yp = x1, y1\n",
    "            \n",
    "        imgGray = cv2.cvtColor(imgCanvas, cv2.COLOR_BGR2GRAY)\n",
    "        _, imgInv = cv2.threshold(imgGray, 50, 255, cv2.THRESH_BINARY_INV)\n",
    "        imgInv = cv2.cvtColor(imgInv,cv2.COLOR_GRAY2BGR)\n",
    "        img = cv2.bitwise_and(img,imgInv)\n",
    "        img = cv2.bitwise_or(img,imgCanvas)\n",
    "\n",
    "    \n",
    "    img[0:120, 0:1240] = header\n",
    "    cv2.imshow('img', img)\n",
    "    if cv2.waitKey(1) == 27:\n",
    "        break\n",
    "\n",
    "cap.release()\n",
    "cv2.destroyAllWindows()"
   ]
  },
  {
   "cell_type": "code",
   "execution_count": null,
   "id": "ea2a4158-1eab-4c62-8635-26f175cfef76",
   "metadata": {},
   "outputs": [],
   "source": []
  },
  {
   "cell_type": "code",
   "execution_count": null,
   "id": "129ee9dc-495b-4b76-83a3-06f569295414",
   "metadata": {},
   "outputs": [],
   "source": []
  }
 ],
 "metadata": {
  "kernelspec": {
   "display_name": "Python 3 (ipykernel)",
   "language": "python",
   "name": "python3"
  },
  "language_info": {
   "codemirror_mode": {
    "name": "ipython",
    "version": 3
   },
   "file_extension": ".py",
   "mimetype": "text/x-python",
   "name": "python",
   "nbconvert_exporter": "python",
   "pygments_lexer": "ipython3",
   "version": "3.11.4"
  }
 },
 "nbformat": 4,
 "nbformat_minor": 5
}
